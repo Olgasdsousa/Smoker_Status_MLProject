{
 "cells": [
  {
   "cell_type": "code",
   "execution_count": 1,
   "id": "b367a42c-863d-4c90-852e-61ddc0223f5e",
   "metadata": {
    "tags": []
   },
   "outputs": [],
   "source": [
    "import pandas as pd\n",
    "import matplotlib.pyplot as plt\n",
    "import seaborn as sns\n",
    "import numpy as np\n",
    "import sklearn\n",
    "from sklearn import linear_model\n",
    "from sklearn.model_selection import train_test_split\n",
    "from sklearn.linear_model import LogisticRegression\n",
    "from sklearn.metrics import accuracy_score, confusion_matrix\n",
    "from sklearn.metrics import classification_report\n",
    "from sklearn.metrics import ConfusionMatrixDisplay\n",
    "from sklearn import metrics\n",
    "from sklearn.pipeline import make_pipeline\n",
    "from sklearn.tree import DecisionTreeClassifier\n",
    "from sklearn.model_selection import GridSearchCV\n",
    "from sklearn.ensemble import RandomForestClassifier\n",
    "import xgboost as xgb\n",
    "from sklearn.model_selection import GridSearchCV\n",
    "from xgboost import XGBClassifier\n",
    "from sklearn.preprocessing import StandardScaler"
   ]
  },
  {
   "cell_type": "code",
   "execution_count": 2,
   "id": "ffca5950-ea99-4f39-92bd-89378c2df284",
   "metadata": {
    "tags": []
   },
   "outputs": [],
   "source": [
    "df=pd.read_csv(\"train.csv\")\n",
    "df_original=pd.read_csv(\"train_dataset.csv\")\n",
    "df_test=pd.read_csv(\"test.csv\")\n",
    "df_test_original=pd.read_csv(\"train_dataset.csv\")"
   ]
  },
  {
   "cell_type": "code",
   "execution_count": 3,
   "id": "b4c5da21-9ab5-45c4-bdce-c81d76b1b695",
   "metadata": {
    "tags": []
   },
   "outputs": [],
   "source": [
    "X = df.drop(columns='smoking')\n",
    "Y = df['smoking']\n",
    "x_train, x_test, y_train, y_test = train_test_split(X, Y, test_size=0.20, random_state=21)"
   ]
  },
  {
   "cell_type": "code",
   "execution_count": 4,
   "id": "74b0eaa3-e9e9-482b-a513-5d89e6bc9de7",
   "metadata": {
    "tags": []
   },
   "outputs": [],
   "source": [
    "#TRANSFORMACIÓN TRAIN\n",
    "def outliers(x):\n",
    "    x.loc[x[\"fasting blood sugar\"]>350,\"fasting blood sugar\"] = x[\"fasting blood sugar\"].mean()\n",
    "    x.loc[x[\"triglyceride\"]>700,\"triglyceride\"] = x[\"triglyceride\"].mean()\n",
    "    x.loc[x[\"LDL\"]>1500,\"LDL\"] = x[\"LDL\"].mean()\n",
    "    x.loc[x[\"serum creatinine\"]>350,\"serum creatinine\"] = x[\"serum creatinine\"].mean()\n",
    "    x.loc[x[\"AST\"]>350,\"AST\"] = x[\"AST\"].mean()\n",
    "    x.loc[x[\"ALT\"]>350,\"ALT\"] = x[\"ALT\"].mean()\n",
    "    x.loc[x[\"Gtp\"]>350,\"Gtp\"] = x[\"Gtp\"].mean()\n",
    "    \n",
    "def esc_log(x):\n",
    "    variables = ['fasting blood sugar','triglyceride','LDL','serum creatinine','AST', 'ALT', 'Gtp']\n",
    "    for i in variables:\n",
    "        x.loc[:,i] = np.log(x[i])\n",
    "\n",
    "def dummies(x):\n",
    "    x = pd.get_dummies(x, drop_first=True, dtype=int)\n",
    "    return x\n",
    "\n",
    "def eliminar(x):\n",
    "    x.drop(columns=['id','hearing(right)','hearing(left)','eyesight(right)','eyesight(left)'], inplace=True)\n",
    "    return x\n",
    "    \n",
    "def transformacion(x):\n",
    "    x[\"IMC\"] = x[\"weight(kg)\"]/((x[\"height(cm)\"]/100)**2)\n",
    "    x['eyesight'] = (x['eyesight(right)'] + x['eyesight(left)'])/2\n",
    "    x['eyesightlvl'] = pd.cut(x.eyesight, bins=[0,0.56,1.11,5,10], labels=[\"a\",\"b\",\"c\",\"d\"])\n",
    "    x['hearing'] = (x['hearing(right)'] + x['hearing(left)'])/2\n",
    "    x[\"hearing\"] = x[\"hearing\"].replace(1.0,\"no_sordo\").replace(1.5,\"medio_sordo\").replace(2.0,\"sordo\")\n",
    "    x['IMC_cat'] = pd.cut(x.IMC, bins=[0,18.5,24.9,29.9,46], labels=[\"underweight\",\"normal_weight\",\"overweight\",\"obese\"])\n",
    "    x['pulse_pressure'] = x['systolic'] - x['relaxation']\n",
    "    x['pressure'] = x['systolic'] + x['relaxation']\n",
    "    x['pressure_cat'] = pd.cut(x.pressure, bins=[0,150,230,319], labels=['lowtension','normaltension','hypertension'])\n",
    "    x['renal_funct'] = 186.3 * (x['serum creatinine'])**(-1.154) * (x['age'])**(-0.203) * (1/x['Urine protein'])\n",
    "    df['age_cat'] = pd.cut(df.age, bins=[20,35,50,65,90], labels=['joven','adulto','mayor','anciano'])\n",
    "    outliers(x)\n",
    "    esc_log(x)\n",
    "    x = dummies(x)\n",
    "    eliminar(x)\n",
    "    return x"
   ]
  },
  {
   "cell_type": "code",
   "execution_count": 5,
   "id": "1a15b593-1a3d-4bac-a2c1-8bbbf1a6a0b7",
   "metadata": {
    "tags": []
   },
   "outputs": [],
   "source": [
    "x_train = transformacion(x_train)\n",
    "#X = transformacion(X)"
   ]
  },
  {
   "cell_type": "code",
   "execution_count": 6,
   "id": "296e3577-713a-4937-aa30-6a7344da36ed",
   "metadata": {
    "tags": []
   },
   "outputs": [
    {
     "data": {
      "text/html": [
       "<style>#sk-container-id-1 {color: black;}#sk-container-id-1 pre{padding: 0;}#sk-container-id-1 div.sk-toggleable {background-color: white;}#sk-container-id-1 label.sk-toggleable__label {cursor: pointer;display: block;width: 100%;margin-bottom: 0;padding: 0.3em;box-sizing: border-box;text-align: center;}#sk-container-id-1 label.sk-toggleable__label-arrow:before {content: \"▸\";float: left;margin-right: 0.25em;color: #696969;}#sk-container-id-1 label.sk-toggleable__label-arrow:hover:before {color: black;}#sk-container-id-1 div.sk-estimator:hover label.sk-toggleable__label-arrow:before {color: black;}#sk-container-id-1 div.sk-toggleable__content {max-height: 0;max-width: 0;overflow: hidden;text-align: left;background-color: #f0f8ff;}#sk-container-id-1 div.sk-toggleable__content pre {margin: 0.2em;color: black;border-radius: 0.25em;background-color: #f0f8ff;}#sk-container-id-1 input.sk-toggleable__control:checked~div.sk-toggleable__content {max-height: 200px;max-width: 100%;overflow: auto;}#sk-container-id-1 input.sk-toggleable__control:checked~label.sk-toggleable__label-arrow:before {content: \"▾\";}#sk-container-id-1 div.sk-estimator input.sk-toggleable__control:checked~label.sk-toggleable__label {background-color: #d4ebff;}#sk-container-id-1 div.sk-label input.sk-toggleable__control:checked~label.sk-toggleable__label {background-color: #d4ebff;}#sk-container-id-1 input.sk-hidden--visually {border: 0;clip: rect(1px 1px 1px 1px);clip: rect(1px, 1px, 1px, 1px);height: 1px;margin: -1px;overflow: hidden;padding: 0;position: absolute;width: 1px;}#sk-container-id-1 div.sk-estimator {font-family: monospace;background-color: #f0f8ff;border: 1px dotted black;border-radius: 0.25em;box-sizing: border-box;margin-bottom: 0.5em;}#sk-container-id-1 div.sk-estimator:hover {background-color: #d4ebff;}#sk-container-id-1 div.sk-parallel-item::after {content: \"\";width: 100%;border-bottom: 1px solid gray;flex-grow: 1;}#sk-container-id-1 div.sk-label:hover label.sk-toggleable__label {background-color: #d4ebff;}#sk-container-id-1 div.sk-serial::before {content: \"\";position: absolute;border-left: 1px solid gray;box-sizing: border-box;top: 0;bottom: 0;left: 50%;z-index: 0;}#sk-container-id-1 div.sk-serial {display: flex;flex-direction: column;align-items: center;background-color: white;padding-right: 0.2em;padding-left: 0.2em;position: relative;}#sk-container-id-1 div.sk-item {position: relative;z-index: 1;}#sk-container-id-1 div.sk-parallel {display: flex;align-items: stretch;justify-content: center;background-color: white;position: relative;}#sk-container-id-1 div.sk-item::before, #sk-container-id-1 div.sk-parallel-item::before {content: \"\";position: absolute;border-left: 1px solid gray;box-sizing: border-box;top: 0;bottom: 0;left: 50%;z-index: -1;}#sk-container-id-1 div.sk-parallel-item {display: flex;flex-direction: column;z-index: 1;position: relative;background-color: white;}#sk-container-id-1 div.sk-parallel-item:first-child::after {align-self: flex-end;width: 50%;}#sk-container-id-1 div.sk-parallel-item:last-child::after {align-self: flex-start;width: 50%;}#sk-container-id-1 div.sk-parallel-item:only-child::after {width: 0;}#sk-container-id-1 div.sk-dashed-wrapped {border: 1px dashed gray;margin: 0 0.4em 0.5em 0.4em;box-sizing: border-box;padding-bottom: 0.4em;background-color: white;}#sk-container-id-1 div.sk-label label {font-family: monospace;font-weight: bold;display: inline-block;line-height: 1.2em;}#sk-container-id-1 div.sk-label-container {text-align: center;}#sk-container-id-1 div.sk-container {/* jupyter's `normalize.less` sets `[hidden] { display: none; }` but bootstrap.min.css set `[hidden] { display: none !important; }` so we also need the `!important` here to be able to override the default hidden behavior on the sphinx rendered scikit-learn.org. See: https://github.com/scikit-learn/scikit-learn/issues/21755 */display: inline-block !important;position: relative;}#sk-container-id-1 div.sk-text-repr-fallback {display: none;}</style><div id=\"sk-container-id-1\" class=\"sk-top-container\"><div class=\"sk-text-repr-fallback\"><pre>Pipeline(steps=[(&#x27;standardscaler&#x27;, StandardScaler()),\n",
       "                (&#x27;xgbclassifier&#x27;,\n",
       "                 XGBClassifier(base_score=None, booster=None, callbacks=[],\n",
       "                               colsample_bylevel=0.28660569056196267,\n",
       "                               colsample_bynode=None,\n",
       "                               colsample_bytree=0.8276262525938465, device=None,\n",
       "                               early_stopping_rounds=None,\n",
       "                               enable_categorical=False, eval_metric=None,\n",
       "                               feature_types=None, gamma=None,\n",
       "                               grow_policy=&#x27;lossg...ype=None,\n",
       "                               interaction_constraints=None,\n",
       "                               learning_rate=0.006892300208037651, max_bin=None,\n",
       "                               max_cat_threshold=None, max_cat_to_onehot=None,\n",
       "                               max_delta_step=None, max_depth=0, max_leaves=38,\n",
       "                               min_child_weight=0.06601425602539084,\n",
       "                               missing=nan, monotone_constraints=None,\n",
       "                               multi_strategy=None, n_estimators=24969,\n",
       "                               n_jobs=-1, num_parallel_tree=None,\n",
       "                               random_state=None, ...))])</pre><b>In a Jupyter environment, please rerun this cell to show the HTML representation or trust the notebook. <br />On GitHub, the HTML representation is unable to render, please try loading this page with nbviewer.org.</b></div><div class=\"sk-container\" hidden><div class=\"sk-item sk-dashed-wrapped\"><div class=\"sk-label-container\"><div class=\"sk-label sk-toggleable\"><input class=\"sk-toggleable__control sk-hidden--visually\" id=\"sk-estimator-id-1\" type=\"checkbox\" ><label for=\"sk-estimator-id-1\" class=\"sk-toggleable__label sk-toggleable__label-arrow\">Pipeline</label><div class=\"sk-toggleable__content\"><pre>Pipeline(steps=[(&#x27;standardscaler&#x27;, StandardScaler()),\n",
       "                (&#x27;xgbclassifier&#x27;,\n",
       "                 XGBClassifier(base_score=None, booster=None, callbacks=[],\n",
       "                               colsample_bylevel=0.28660569056196267,\n",
       "                               colsample_bynode=None,\n",
       "                               colsample_bytree=0.8276262525938465, device=None,\n",
       "                               early_stopping_rounds=None,\n",
       "                               enable_categorical=False, eval_metric=None,\n",
       "                               feature_types=None, gamma=None,\n",
       "                               grow_policy=&#x27;lossg...ype=None,\n",
       "                               interaction_constraints=None,\n",
       "                               learning_rate=0.006892300208037651, max_bin=None,\n",
       "                               max_cat_threshold=None, max_cat_to_onehot=None,\n",
       "                               max_delta_step=None, max_depth=0, max_leaves=38,\n",
       "                               min_child_weight=0.06601425602539084,\n",
       "                               missing=nan, monotone_constraints=None,\n",
       "                               multi_strategy=None, n_estimators=24969,\n",
       "                               n_jobs=-1, num_parallel_tree=None,\n",
       "                               random_state=None, ...))])</pre></div></div></div><div class=\"sk-serial\"><div class=\"sk-item\"><div class=\"sk-estimator sk-toggleable\"><input class=\"sk-toggleable__control sk-hidden--visually\" id=\"sk-estimator-id-2\" type=\"checkbox\" ><label for=\"sk-estimator-id-2\" class=\"sk-toggleable__label sk-toggleable__label-arrow\">StandardScaler</label><div class=\"sk-toggleable__content\"><pre>StandardScaler()</pre></div></div></div><div class=\"sk-item\"><div class=\"sk-estimator sk-toggleable\"><input class=\"sk-toggleable__control sk-hidden--visually\" id=\"sk-estimator-id-3\" type=\"checkbox\" ><label for=\"sk-estimator-id-3\" class=\"sk-toggleable__label sk-toggleable__label-arrow\">XGBClassifier</label><div class=\"sk-toggleable__content\"><pre>XGBClassifier(base_score=None, booster=None, callbacks=[],\n",
       "              colsample_bylevel=0.28660569056196267, colsample_bynode=None,\n",
       "              colsample_bytree=0.8276262525938465, device=None,\n",
       "              early_stopping_rounds=None, enable_categorical=False,\n",
       "              eval_metric=None, feature_types=None, gamma=None,\n",
       "              grow_policy=&#x27;lossguide&#x27;, importance_type=None,\n",
       "              interaction_constraints=None, learning_rate=0.006892300208037651,\n",
       "              max_bin=None, max_cat_threshold=None, max_cat_to_onehot=None,\n",
       "              max_delta_step=None, max_depth=0, max_leaves=38,\n",
       "              min_child_weight=0.06601425602539084, missing=nan,\n",
       "              monotone_constraints=None, multi_strategy=None,\n",
       "              n_estimators=24969, n_jobs=-1, num_parallel_tree=None,\n",
       "              random_state=None, ...)</pre></div></div></div></div></div></div></div>"
      ],
      "text/plain": [
       "Pipeline(steps=[('standardscaler', StandardScaler()),\n",
       "                ('xgbclassifier',\n",
       "                 XGBClassifier(base_score=None, booster=None, callbacks=[],\n",
       "                               colsample_bylevel=0.28660569056196267,\n",
       "                               colsample_bynode=None,\n",
       "                               colsample_bytree=0.8276262525938465, device=None,\n",
       "                               early_stopping_rounds=None,\n",
       "                               enable_categorical=False, eval_metric=None,\n",
       "                               feature_types=None, gamma=None,\n",
       "                               grow_policy='lossg...ype=None,\n",
       "                               interaction_constraints=None,\n",
       "                               learning_rate=0.006892300208037651, max_bin=None,\n",
       "                               max_cat_threshold=None, max_cat_to_onehot=None,\n",
       "                               max_delta_step=None, max_depth=0, max_leaves=38,\n",
       "                               min_child_weight=0.06601425602539084,\n",
       "                               missing=nan, monotone_constraints=None,\n",
       "                               multi_strategy=None, n_estimators=24969,\n",
       "                               n_jobs=-1, num_parallel_tree=None,\n",
       "                               random_state=None, ...))])"
      ]
     },
     "execution_count": 6,
     "metadata": {},
     "output_type": "execute_result"
    }
   ],
   "source": [
    "# ESCALAR Y MODELO XGBOOST\n",
    "scale=StandardScaler() # paso 2\n",
    "model=XGBClassifier(base_score=None, booster=None, callbacks=[],\n",
    "              colsample_bylevel=0.28660569056196267, colsample_bynode=None,\n",
    "              colsample_bytree=0.8276262525938465, device=None,\n",
    "              early_stopping_rounds=None, enable_categorical=False,\n",
    "              eval_metric=None, feature_types=None, gamma=None,\n",
    "              grow_policy='lossguide', importance_type=None,\n",
    "              interaction_constraints=None, learning_rate=0.006892300208037651,\n",
    "              max_bin=None, max_cat_threshold=None, max_cat_to_onehot=None,\n",
    "              max_delta_step=None, max_depth=0, max_leaves=38,\n",
    "              min_child_weight=0.06601425602539084,\n",
    "              monotone_constraints=None, multi_strategy=None,\n",
    "              n_estimators=24969, n_jobs=-1, num_parallel_tree=None,\n",
    "              random_state=None)\n",
    "    \n",
    "complete_proces=make_pipeline(scale, model) # todos los pasos juntos\n",
    "#complete_proces.fit(X, Y)\n",
    "complete_proces.fit(x_train, y_train)"
   ]
  },
  {
   "cell_type": "code",
   "execution_count": 7,
   "id": "1938c064-c158-4042-8ccf-473501a9e369",
   "metadata": {
    "tags": []
   },
   "outputs": [],
   "source": [
    "#TRANSFORMACIÓN TEST\n",
    "x_test = transformacion(x_test)"
   ]
  },
  {
   "cell_type": "code",
   "execution_count": 8,
   "id": "2db94e6a-5824-473d-8bf0-14a0d8c3fcdb",
   "metadata": {
    "tags": []
   },
   "outputs": [],
   "source": [
    "#PREDICCIÓN FINAL\n",
    "probs = complete_proces.predict_proba(x_test)"
   ]
  },
  {
   "cell_type": "code",
   "execution_count": null,
   "id": "7ccf14a8-4c4b-4b32-b2e7-aa9f2a585bcb",
   "metadata": {},
   "outputs": [],
   "source": [
    "#VALIDACIÓN"
   ]
  },
  {
   "cell_type": "code",
   "execution_count": 9,
   "id": "78a109a4-e95f-4a7a-886f-b2c861285fc9",
   "metadata": {
    "tags": []
   },
   "outputs": [
    {
     "name": "stdout",
     "output_type": "stream",
     "text": [
      "Train AUC: 0.8705169925483469\n"
     ]
    }
   ],
   "source": [
    "from sklearn import metrics\n",
    "print(\"Train AUC:\", sklearn.metrics.roc_auc_score(y_test,probs[:,1]))"
   ]
  },
  {
   "cell_type": "code",
   "execution_count": 17,
   "id": "efc037c9-0993-42c9-8240-56261ddf290a",
   "metadata": {
    "tags": []
   },
   "outputs": [],
   "source": [
    "x_test=pd.read_csv(\"test.csv\")"
   ]
  },
  {
   "cell_type": "code",
   "execution_count": 18,
   "id": "ca334535-d3cf-4765-ba75-bc0aac6799bf",
   "metadata": {
    "tags": []
   },
   "outputs": [],
   "source": [
    "X_test = transformacion(x_test)"
   ]
  },
  {
   "cell_type": "code",
   "execution_count": 19,
   "id": "0ebd6c9f-3434-4ac6-8c54-7f56fbc86440",
   "metadata": {
    "tags": []
   },
   "outputs": [],
   "source": [
    "probs = complete_proces.predict_proba(X_test)"
   ]
  },
  {
   "cell_type": "code",
   "execution_count": 21,
   "id": "cb0b95de-293a-47f7-bbcb-320924d07202",
   "metadata": {},
   "outputs": [
    {
     "data": {
      "text/html": [
       "<div>\n",
       "<style scoped>\n",
       "    .dataframe tbody tr th:only-of-type {\n",
       "        vertical-align: middle;\n",
       "    }\n",
       "\n",
       "    .dataframe tbody tr th {\n",
       "        vertical-align: top;\n",
       "    }\n",
       "\n",
       "    .dataframe thead th {\n",
       "        text-align: right;\n",
       "    }\n",
       "</style>\n",
       "<table border=\"1\" class=\"dataframe\">\n",
       "  <thead>\n",
       "    <tr style=\"text-align: right;\">\n",
       "      <th></th>\n",
       "      <th>id</th>\n",
       "      <th>smoking</th>\n",
       "    </tr>\n",
       "  </thead>\n",
       "  <tbody>\n",
       "    <tr>\n",
       "      <th>0</th>\n",
       "      <td>159256</td>\n",
       "      <td>0.646276</td>\n",
       "    </tr>\n",
       "    <tr>\n",
       "      <th>1</th>\n",
       "      <td>159257</td>\n",
       "      <td>0.204701</td>\n",
       "    </tr>\n",
       "    <tr>\n",
       "      <th>2</th>\n",
       "      <td>159258</td>\n",
       "      <td>0.517683</td>\n",
       "    </tr>\n",
       "    <tr>\n",
       "      <th>3</th>\n",
       "      <td>159259</td>\n",
       "      <td>0.015772</td>\n",
       "    </tr>\n",
       "    <tr>\n",
       "      <th>4</th>\n",
       "      <td>159260</td>\n",
       "      <td>0.645875</td>\n",
       "    </tr>\n",
       "    <tr>\n",
       "      <th>...</th>\n",
       "      <td>...</td>\n",
       "      <td>...</td>\n",
       "    </tr>\n",
       "    <tr>\n",
       "      <th>106166</th>\n",
       "      <td>265422</td>\n",
       "      <td>0.554255</td>\n",
       "    </tr>\n",
       "    <tr>\n",
       "      <th>106167</th>\n",
       "      <td>265423</td>\n",
       "      <td>0.513695</td>\n",
       "    </tr>\n",
       "    <tr>\n",
       "      <th>106168</th>\n",
       "      <td>265424</td>\n",
       "      <td>0.478148</td>\n",
       "    </tr>\n",
       "    <tr>\n",
       "      <th>106169</th>\n",
       "      <td>265425</td>\n",
       "      <td>0.074099</td>\n",
       "    </tr>\n",
       "    <tr>\n",
       "      <th>106170</th>\n",
       "      <td>265426</td>\n",
       "      <td>0.030184</td>\n",
       "    </tr>\n",
       "  </tbody>\n",
       "</table>\n",
       "<p>106171 rows × 2 columns</p>\n",
       "</div>"
      ],
      "text/plain": [
       "            id   smoking\n",
       "0       159256  0.646276\n",
       "1       159257  0.204701\n",
       "2       159258  0.517683\n",
       "3       159259  0.015772\n",
       "4       159260  0.645875\n",
       "...        ...       ...\n",
       "106166  265422  0.554255\n",
       "106167  265423  0.513695\n",
       "106168  265424  0.478148\n",
       "106169  265425  0.074099\n",
       "106170  265426  0.030184\n",
       "\n",
       "[106171 rows x 2 columns]"
      ]
     },
     "execution_count": 21,
     "metadata": {},
     "output_type": "execute_result"
    }
   ],
   "source": [
    "submission = pd.DataFrame({\"id\":x_test[\"id\"], \"smoking\":probs[:,1]})\n",
    "submission"
   ]
  },
  {
   "cell_type": "code",
   "execution_count": null,
   "id": "51442f00-ca4d-4d9f-b1b0-27dcd13e9879",
   "metadata": {},
   "outputs": [],
   "source": []
  },
  {
   "cell_type": "code",
   "execution_count": 23,
   "id": "509a0b7c-97b2-4538-a13b-fc454391ee55",
   "metadata": {},
   "outputs": [],
   "source": [
    "submission.to_csv(\"sample_submission.csv\", encoding='utf-8', index=False) #Guardar dataframe final"
   ]
  }
 ],
 "metadata": {
  "kernelspec": {
   "display_name": "Python 3 (ipykernel)",
   "language": "python",
   "name": "python3"
  },
  "language_info": {
   "codemirror_mode": {
    "name": "ipython",
    "version": 3
   },
   "file_extension": ".py",
   "mimetype": "text/x-python",
   "name": "python",
   "nbconvert_exporter": "python",
   "pygments_lexer": "ipython3",
   "version": "3.11.4"
  }
 },
 "nbformat": 4,
 "nbformat_minor": 5
}
